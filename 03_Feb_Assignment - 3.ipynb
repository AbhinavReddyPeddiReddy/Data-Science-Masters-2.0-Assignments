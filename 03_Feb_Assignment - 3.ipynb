{
 "cells": [
  {
   "cell_type": "markdown",
   "id": "09f273ad",
   "metadata": {},
   "source": [
    "# Q1. Which keyword is used to create a function? Create a function to return a list of odd numbers in the range of 1 to 25."
   ]
  },
  {
   "cell_type": "markdown",
   "id": "3e1a63e3",
   "metadata": {},
   "source": [
    " The keyword used to create a function is 'def'"
   ]
  },
  {
   "cell_type": "code",
   "execution_count": 14,
   "id": "9c11c896",
   "metadata": {},
   "outputs": [],
   "source": [
    "def odd_val():\n",
    "    oddlist = []\n",
    "    for i in range(1,26):\n",
    "        if i % 2 != 0:\n",
    "            oddlist.append(i)\n",
    "    return oddlist\n",
    "        \n",
    "    "
   ]
  },
  {
   "cell_type": "code",
   "execution_count": 15,
   "id": "f523ed6f",
   "metadata": {},
   "outputs": [
    {
     "name": "stdout",
     "output_type": "stream",
     "text": [
      "[1, 3, 5, 7, 9, 11, 13, 15, 17, 19, 21, 23, 25]\n"
     ]
    }
   ],
   "source": [
    "print(odd_val())"
   ]
  },
  {
   "cell_type": "markdown",
   "id": "27e7a4a6",
   "metadata": {},
   "source": [
    "# Q2. Why *args and **kwargs is used in some functions? Create a function each for *args and **kwargs to demonstrate their use."
   ]
  },
  {
   "cell_type": "markdown",
   "id": "2503903a",
   "metadata": {},
   "source": [
    "*args and **kwargs are used in Python functions to handle variable numbers of arguments.\n",
    "\n",
    "*args: It allows you to pass a variable number of positional arguments to a function. These arguments are wrapped up in a tuple.\n",
    "\n",
    "**kwargs: It allows you to pass a variable number of keyword arguments (or named arguments) to a function. These arguments are wrapped up in a dictionary."
   ]
  },
  {
   "cell_type": "code",
   "execution_count": 16,
   "id": "4a304a5b",
   "metadata": {},
   "outputs": [],
   "source": [
    "# Function using *args to sum variable number of arguments\n",
    "def sum_args(*args):\n",
    "    total = 0\n",
    "    for num in args:\n",
    "        total += num\n",
    "    return total"
   ]
  },
  {
   "cell_type": "code",
   "execution_count": 17,
   "id": "8c08b840",
   "metadata": {},
   "outputs": [
    {
     "data": {
      "text/plain": [
       "169"
      ]
     },
     "execution_count": 17,
     "metadata": {},
     "output_type": "execute_result"
    }
   ],
   "source": [
    "sum_args(2,3,4,56,4,5,6,89)"
   ]
  },
  {
   "cell_type": "code",
   "execution_count": 18,
   "id": "19d3afeb",
   "metadata": {},
   "outputs": [],
   "source": [
    "# Function using **kwargs to display key-value pairs\n",
    "def display_kwargs(**kwargs):\n",
    "    for key, value in kwargs.items():\n",
    "        print(f\"{key}: {value}\")\n"
   ]
  },
  {
   "cell_type": "code",
   "execution_count": 20,
   "id": "f19f6c85",
   "metadata": {},
   "outputs": [
    {
     "name": "stdout",
     "output_type": "stream",
     "text": [
      "name: Abhi\n",
      "age: 21\n",
      "country: India\n"
     ]
    }
   ],
   "source": [
    "display_kwargs(name=\"Abhi\", age=21, country=\"India\")"
   ]
  },
  {
   "cell_type": "markdown",
   "id": "56d8c5fd",
   "metadata": {},
   "source": [
    "# Q3. What is an iterator in python? Name the method used to initialise the iterator object and the method used for iteration. Use these methods to print the first five elements of the given list [2, 4, 6, 8, 10, 12, 14, 16, 18, 20]."
   ]
  },
  {
   "cell_type": "markdown",
   "id": "ff19475b",
   "metadata": {},
   "source": [
    "\n",
    "In Python, an iterator is an object that allows traversal through elements of a collection, such as lists, tuples, or dictionaries. Iterators implement two methods:\n",
    "\n",
    "__iter__(): This method is used to initialize the iterator object. It returns the iterator object itself.\n",
    "\n",
    "__next__(): This method is used for iteration. It returns the next element in the sequence. When there are no more elements, it raises the StopIteration exception."
   ]
  },
  {
   "cell_type": "code",
   "execution_count": 28,
   "id": "792505ad",
   "metadata": {},
   "outputs": [
    {
     "name": "stdout",
     "output_type": "stream",
     "text": [
      "2\n",
      "4\n",
      "6\n",
      "8\n",
      "10\n"
     ]
    }
   ],
   "source": [
    "# Define the list\n",
    "my_list = [2, 4, 6, 8, 10, 12, 14, 16, 18, 20]\n",
    "\n",
    "# Initialize the iterator object\n",
    "my_iterator = iter(my_list)\n",
    "\n",
    "# Iterate through the first five elements\n",
    "for _ in range(5):\n",
    "    try:\n",
    "        # Get the next element using the __next__() method\n",
    "        element = next(my_iterator)\n",
    "        print(element)\n",
    "    except StopIteration:\n",
    "        # If there are no more elements, break out of the loop\n",
    "        BaseExceptionreak"
   ]
  },
  {
   "cell_type": "markdown",
   "id": "a61b73c9",
   "metadata": {},
   "source": [
    "# Q4. What is a generator function in python? Why yield keyword is used? Give an example of a generator function."
   ]
  },
  {
   "cell_type": "markdown",
   "id": "04753c8b",
   "metadata": {},
   "source": [
    "A generator function in Python is a special type of function that generates values lazily (on demand) rather than generating them all at once and storing them in memory. Generator functions use the yield keyword instead of return to return values one at a time, pausing execution between each yield.\n",
    "\n",
    "The yield keyword is used to temporarily suspend the execution of a function and return a value to the caller. When the function is called again, it resumes execution from where it left off, maintaining the state of the function."
   ]
  },
  {
   "cell_type": "code",
   "execution_count": 30,
   "id": "ecc97415",
   "metadata": {},
   "outputs": [
    {
     "name": "stdout",
     "output_type": "stream",
     "text": [
      "1\n",
      "4\n",
      "9\n",
      "16\n",
      "25\n"
     ]
    }
   ],
   "source": [
    "def squares_generator(limit):\n",
    "    num = 1\n",
    "    while num <= limit:\n",
    "        yield num ** 2\n",
    "        num += 1\n",
    "\n",
    "# Using the generator function to generate squares of numbers up to 5\n",
    "squares = squares_generator(5)\n",
    "\n",
    "# Iterating through the generator to print the squares\n",
    "for square in squares:\n",
    "    print(square)"
   ]
  },
  {
   "cell_type": "markdown",
   "id": "e7c593a2",
   "metadata": {},
   "source": [
    "# Q5. Create a generator function for prime numbers less than 1000. Use the next() method to print the first 20 prime numbers."
   ]
  },
  {
   "cell_type": "code",
   "execution_count": 31,
   "id": "30cac227",
   "metadata": {},
   "outputs": [
    {
     "name": "stdout",
     "output_type": "stream",
     "text": [
      "2\n",
      "3\n",
      "5\n",
      "7\n",
      "11\n",
      "13\n",
      "17\n",
      "19\n",
      "23\n",
      "29\n",
      "31\n",
      "37\n",
      "41\n",
      "43\n",
      "47\n",
      "53\n",
      "59\n",
      "61\n",
      "67\n",
      "71\n"
     ]
    }
   ],
   "source": [
    "def is_prime(n):\n",
    "    if n <= 1:\n",
    "        return False\n",
    "    elif n <= 3:\n",
    "        return True\n",
    "    elif n % 2 == 0 or n % 3 == 0:\n",
    "        return False\n",
    "    i = 5\n",
    "    while i * i <= n:\n",
    "        if n % i == 0 or n % (i + 2) == 0:\n",
    "            return False\n",
    "        i += 6\n",
    "    return True\n",
    "\n",
    "def prime_generator():\n",
    "    num = 2\n",
    "    while num < 1000:\n",
    "        if is_prime(num):\n",
    "            yield num\n",
    "        num += 1\n",
    "\n",
    "# Create a generator object\n",
    "prime_gen = prime_generator()\n",
    "\n",
    "# Print the first 20 prime numbers using next() method\n",
    "for _ in range(20):\n",
    "    print(next(prime_gen))\n"
   ]
  },
  {
   "cell_type": "code",
   "execution_count": null,
   "id": "d7ffdb4e",
   "metadata": {},
   "outputs": [],
   "source": []
  }
 ],
 "metadata": {
  "kernelspec": {
   "display_name": "Python 3 (ipykernel)",
   "language": "python",
   "name": "python3"
  },
  "language_info": {
   "codemirror_mode": {
    "name": "ipython",
    "version": 3
   },
   "file_extension": ".py",
   "mimetype": "text/x-python",
   "name": "python",
   "nbconvert_exporter": "python",
   "pygments_lexer": "ipython3",
   "version": "3.9.12"
  },
  "varInspector": {
   "cols": {
    "lenName": 16,
    "lenType": 16,
    "lenVar": 40
   },
   "kernels_config": {
    "python": {
     "delete_cmd_postfix": "",
     "delete_cmd_prefix": "del ",
     "library": "var_list.py",
     "varRefreshCmd": "print(var_dic_list())"
    },
    "r": {
     "delete_cmd_postfix": ") ",
     "delete_cmd_prefix": "rm(",
     "library": "var_list.r",
     "varRefreshCmd": "cat(var_dic_list()) "
    }
   },
   "types_to_exclude": [
    "module",
    "function",
    "builtin_function_or_method",
    "instance",
    "_Feature"
   ],
   "window_display": false
  }
 },
 "nbformat": 4,
 "nbformat_minor": 5
}
