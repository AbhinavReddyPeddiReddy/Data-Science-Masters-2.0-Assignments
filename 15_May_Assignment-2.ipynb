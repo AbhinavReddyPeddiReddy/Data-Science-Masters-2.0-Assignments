{
 "cells": [
  {
   "cell_type": "markdown",
   "id": "5def10e3",
   "metadata": {},
   "source": [
    "# 15_May_Assignment-2   Week -2  Data Structures Assignment"
   ]
  },
  {
   "cell_type": "markdown",
   "id": "38952a6b",
   "metadata": {},
   "source": [
    "## Q1. How do you comment code in Python? What are the different types of comments?"
   ]
  },
  {
   "cell_type": "markdown",
   "id": "f4b1a2b6",
   "metadata": {},
   "source": [
    "##### In Python, you can use the '#' symbol to create a single-line comment. Anything following the '#' symbol on the same line is considered a comment and is not executed by the Python interpreter. Example:"
   ]
  },
  {
   "cell_type": "code",
   "execution_count": 1,
   "id": "baacb4e5",
   "metadata": {},
   "outputs": [],
   "source": [
    "# This is a single-line comment"
   ]
  },
  {
   "cell_type": "markdown",
   "id": "33073467",
   "metadata": {},
   "source": [
    "#### For multi-line comments, you can use triple quotes ('''...''') or triple double quotes (\"\"\"...\"\"\"). Although they are not specifically designed for comments, they can be used as such. Example:"
   ]
  },
  {
   "cell_type": "markdown",
   "id": "36ed1085",
   "metadata": {},
   "source": [
    "\"\"\"\n",
    "This is a\n",
    "multi-line\n",
    "comment\n",
    "\"\"\""
   ]
  },
  {
   "cell_type": "markdown",
   "id": "bb32ed09",
   "metadata": {},
   "source": [
    "### Q2. What are variables in Python? How do you declare and assign values to variables?"
   ]
  },
  {
   "cell_type": "markdown",
   "id": "9d4545ad",
   "metadata": {},
   "source": [
    "###### Variables in Python are used to store data values. They act as placeholders for storing and manipulating different types of data. You can declare a variable in Python simply by assigning a value to it using the '=' operator. Example:"
   ]
  },
  {
   "cell_type": "code",
   "execution_count": 2,
   "id": "741bd174",
   "metadata": {},
   "outputs": [],
   "source": [
    "var = 31"
   ]
  },
  {
   "cell_type": "code",
   "execution_count": 3,
   "id": "b85c1f6e",
   "metadata": {},
   "outputs": [
    {
     "data": {
      "text/plain": [
       "31"
      ]
     },
     "execution_count": 3,
     "metadata": {},
     "output_type": "execute_result"
    }
   ],
   "source": [
    "var"
   ]
  },
  {
   "cell_type": "markdown",
   "id": "0cc52b0e",
   "metadata": {},
   "source": [
    "##### In the above example, a variable named 'var' is declared and assigned the value 100.and assigned the value 100."
   ]
  },
  {
   "cell_type": "markdown",
   "id": "ed74ddc7",
   "metadata": {},
   "source": [
    "### Q3. How do you convert one data type to another in Python?"
   ]
  },
  {
   "cell_type": "markdown",
   "id": "f4f8a5a2",
   "metadata": {},
   "source": [
    "##### To convert one data type to another in Python, you can use built-in functions that correspond to the desired data type. Here are a few commonly used functions:- (1) int(): Converts a value to an integer. (2) float(): Converts a value to a floating-point number. (3) str(): Converts a value to a string. (4) list(): Converts a value to a list. (5) tuple(): Converts a value to a tuple. Example:"
   ]
  },
  {
   "cell_type": "code",
   "execution_count": 4,
   "id": "5dd62dab",
   "metadata": {},
   "outputs": [],
   "source": [
    "# Converting a string to an integer\n",
    "s = \"123\""
   ]
  },
  {
   "cell_type": "code",
   "execution_count": 5,
   "id": "2612980d",
   "metadata": {},
   "outputs": [],
   "source": [
    "i = int(s)"
   ]
  },
  {
   "cell_type": "code",
   "execution_count": 6,
   "id": "06d17ce1",
   "metadata": {},
   "outputs": [
    {
     "data": {
      "text/plain": [
       "123"
      ]
     },
     "execution_count": 6,
     "metadata": {},
     "output_type": "execute_result"
    }
   ],
   "source": [
    "i "
   ]
  },
  {
   "cell_type": "markdown",
   "id": "86bb195f",
   "metadata": {},
   "source": [
    "##### In the above example, the string \"123\" is converted to an integer using the int() function."
   ]
  },
  {
   "cell_type": "markdown",
   "id": "74db24c7",
   "metadata": {},
   "source": [
    "### Q4. How do you write and execute a Python script from the command line?"
   ]
  },
  {
   "cell_type": "markdown",
   "id": "e1877cb3",
   "metadata": {},
   "source": [
    "To write and execute a Python script from the command line, follow these steps:- Step 1: Open a text editor and write your Python code. Step 2: Save the file with a .py extension, such as 'script.py'. Step 3: Open the Command Line Interface (CLI) or terminal. Step 4: Navigate to the directory where your Python script is located using the 'cd' command. Step 5: Execute the script by typing 'python script.py' in the command line and pressing Enter."
   ]
  },
  {
   "cell_type": "markdown",
   "id": "f0263cc4",
   "metadata": {},
   "source": [
    "### Q5. Given a list my_list = [1, 2, 3, 4, 5], write the code to slice the list and obtain the sub-list [2, 3]."
   ]
  },
  {
   "cell_type": "code",
   "execution_count": 7,
   "id": "445c36c6",
   "metadata": {},
   "outputs": [],
   "source": [
    "my_list = [1,2,3,4,5]\n"
   ]
  },
  {
   "cell_type": "code",
   "execution_count": 8,
   "id": "2cd80b1c",
   "metadata": {},
   "outputs": [
    {
     "data": {
      "text/plain": [
       "[1, 2, 3, 4, 5]"
      ]
     },
     "execution_count": 8,
     "metadata": {},
     "output_type": "execute_result"
    }
   ],
   "source": [
    "my_list"
   ]
  },
  {
   "cell_type": "code",
   "execution_count": 9,
   "id": "a0bfa151",
   "metadata": {},
   "outputs": [],
   "source": [
    "sub_list = my_list[1:3]\n"
   ]
  },
  {
   "cell_type": "code",
   "execution_count": 10,
   "id": "6c4e4964",
   "metadata": {},
   "outputs": [
    {
     "data": {
      "text/plain": [
       "[2, 3]"
      ]
     },
     "execution_count": 10,
     "metadata": {},
     "output_type": "execute_result"
    }
   ],
   "source": [
    "sub_list\n"
   ]
  },
  {
   "cell_type": "markdown",
   "id": "ea5486b8",
   "metadata": {},
   "source": [
    "### Q6. What is a complex number in mathematics, and how is it represented in Python?\n"
   ]
  },
  {
   "cell_type": "markdown",
   "id": "95525a08",
   "metadata": {},
   "source": [
    "In mathematics, a complex number is a number that comprises both a real part and an imaginary part. It is represented in the form 'a + bi', where 'a' is the real part, 'b' is the imaginary part, and 'i' represents the imaginary unit. In Python, complex numbers are represented using the 'j' suffix to denote the imaginary part. The 'complex()' function can also be used to create complex numbers explicitly. Example:\n",
    "\n"
   ]
  },
  {
   "cell_type": "code",
   "execution_count": 11,
   "id": "d0c7adb6",
   "metadata": {},
   "outputs": [],
   "source": [
    "c = 2 + 3j\n"
   ]
  },
  {
   "cell_type": "code",
   "execution_count": 12,
   "id": "6e10c1c1",
   "metadata": {},
   "outputs": [
    {
     "data": {
      "text/plain": [
       "(2+3j)"
      ]
     },
     "execution_count": 12,
     "metadata": {},
     "output_type": "execute_result"
    }
   ],
   "source": [
    "c"
   ]
  },
  {
   "cell_type": "code",
   "execution_count": 13,
   "id": "a36c21ea",
   "metadata": {},
   "outputs": [],
   "source": [
    "# Using the complex() function\n",
    "c1 = complex(2, 3)\n"
   ]
  },
  {
   "cell_type": "code",
   "execution_count": 14,
   "id": "0f42469a",
   "metadata": {},
   "outputs": [
    {
     "data": {
      "text/plain": [
       "(2+3j)"
      ]
     },
     "execution_count": 14,
     "metadata": {},
     "output_type": "execute_result"
    }
   ],
   "source": [
    "c1"
   ]
  },
  {
   "cell_type": "markdown",
   "id": "1909fad0",
   "metadata": {},
   "source": [
    "### Q7. What is the correct way to declare a variable named age and assign the value 25 to it?\n"
   ]
  },
  {
   "cell_type": "markdown",
   "id": "e346b455",
   "metadata": {},
   "source": [
    "The correct way to declare a variable named 'age' and assign the value 25 to it in Python is as follows:\n",
    "\n"
   ]
  },
  {
   "cell_type": "code",
   "execution_count": 15,
   "id": "57a9d4a6",
   "metadata": {},
   "outputs": [],
   "source": [
    "age = 25\n"
   ]
  },
  {
   "cell_type": "code",
   "execution_count": 16,
   "id": "b7f6f099",
   "metadata": {},
   "outputs": [
    {
     "data": {
      "text/plain": [
       "25"
      ]
     },
     "execution_count": 16,
     "metadata": {},
     "output_type": "execute_result"
    }
   ],
   "source": [
    "age"
   ]
  },
  {
   "cell_type": "markdown",
   "id": "7a78569e",
   "metadata": {},
   "source": [
    "### Q8. Declare a variable named price and assign the value 9.99 to it. What data type does this variable belong to?\n"
   ]
  },
  {
   "cell_type": "markdown",
   "id": "6d59544f",
   "metadata": {},
   "source": [
    "To declare a variable named 'price' and assign the value 9.99 to it, you can use the following code:\n",
    "\n"
   ]
  },
  {
   "cell_type": "code",
   "execution_count": 17,
   "id": "8feb1865",
   "metadata": {},
   "outputs": [],
   "source": [
    "price = 9.99\n"
   ]
  },
  {
   "cell_type": "code",
   "execution_count": 18,
   "id": "97fa5f46",
   "metadata": {},
   "outputs": [
    {
     "data": {
      "text/plain": [
       "float"
      ]
     },
     "execution_count": 18,
     "metadata": {},
     "output_type": "execute_result"
    }
   ],
   "source": [
    "type(price)"
   ]
  },
  {
   "cell_type": "markdown",
   "id": "6d8c8345",
   "metadata": {},
   "source": [
    "### Q9. Create a variable named name and assign your full name to it as a string. How would you print the value of this variable?"
   ]
  },
  {
   "cell_type": "markdown",
   "id": "775fcdea",
   "metadata": {},
   "source": [
    "To create a variable named 'name' and assign your full name to it as a string, you can use the following code:\n",
    "\n"
   ]
  },
  {
   "cell_type": "code",
   "execution_count": 19,
   "id": "6ef35389",
   "metadata": {},
   "outputs": [],
   "source": [
    "name = \"Abhinav Reddy\"\n"
   ]
  },
  {
   "cell_type": "code",
   "execution_count": 20,
   "id": "7d29be07",
   "metadata": {},
   "outputs": [
    {
     "name": "stdout",
     "output_type": "stream",
     "text": [
      "Abhinav Reddy\n"
     ]
    }
   ],
   "source": [
    "print(name)"
   ]
  },
  {
   "cell_type": "markdown",
   "id": "21b8a487",
   "metadata": {},
   "source": [
    "### Q10. Given the string \"Hello, World!\", extract the substring \"World\".\n",
    "/"
   ]
  },
  {
   "cell_type": "code",
   "execution_count": 21,
   "id": "70e5258c",
   "metadata": {},
   "outputs": [],
   "source": [
    "my_string = \"Hello, World!\"\n"
   ]
  },
  {
   "cell_type": "code",
   "execution_count": 22,
   "id": "50ace00c",
   "metadata": {},
   "outputs": [
    {
     "data": {
      "text/plain": [
       "'Hello, World!'"
      ]
     },
     "execution_count": 22,
     "metadata": {},
     "output_type": "execute_result"
    }
   ],
   "source": [
    "my_string\n"
   ]
  },
  {
   "cell_type": "code",
   "execution_count": 23,
   "id": "c472518d",
   "metadata": {},
   "outputs": [],
   "source": [
    "substring = my_string[7:12]"
   ]
  },
  {
   "cell_type": "code",
   "execution_count": 24,
   "id": "8a30a7ab",
   "metadata": {},
   "outputs": [
    {
     "data": {
      "text/plain": [
       "'World'"
      ]
     },
     "execution_count": 24,
     "metadata": {},
     "output_type": "execute_result"
    }
   ],
   "source": [
    "\n",
    "substring"
   ]
  },
  {
   "cell_type": "markdown",
   "id": "2dd5e610",
   "metadata": {},
   "source": [
    "### Q11. Create a variable named \"is_student\" and assign it a boolean value indicating whether you are currently a student or not.\n"
   ]
  },
  {
   "cell_type": "markdown",
   "id": "08afa15f",
   "metadata": {},
   "source": [
    "To create a variable named 'is_student' and assign a boolean value indicating whether you are currently a student or not, you can use the following code:\n",
    "\n"
   ]
  },
  {
   "cell_type": "code",
   "execution_count": 25,
   "id": "1f8c4db4",
   "metadata": {},
   "outputs": [],
   "source": [
    "is_student = True\n"
   ]
  },
  {
   "cell_type": "code",
   "execution_count": 26,
   "id": "060ed611",
   "metadata": {},
   "outputs": [
    {
     "data": {
      "text/plain": [
       "True"
      ]
     },
     "execution_count": 26,
     "metadata": {},
     "output_type": "execute_result"
    }
   ],
   "source": [
    "is_student"
   ]
  },
  {
   "cell_type": "markdown",
   "id": "a2267f16",
   "metadata": {},
   "source": [
    "Here, 'True' represents that you are currently a student, while 'False' would indicate that you are not."
   ]
  },
  {
   "cell_type": "code",
   "execution_count": null,
   "id": "91a1deb4",
   "metadata": {},
   "outputs": [],
   "source": []
  }
 ],
 "metadata": {
  "kernelspec": {
   "display_name": "Python 3 (ipykernel)",
   "language": "python",
   "name": "python3"
  },
  "language_info": {
   "codemirror_mode": {
    "name": "ipython",
    "version": 3
   },
   "file_extension": ".py",
   "mimetype": "text/x-python",
   "name": "python",
   "nbconvert_exporter": "python",
   "pygments_lexer": "ipython3",
   "version": "3.9.12"
  },
  "varInspector": {
   "cols": {
    "lenName": 16,
    "lenType": 16,
    "lenVar": 40
   },
   "kernels_config": {
    "python": {
     "delete_cmd_postfix": "",
     "delete_cmd_prefix": "del ",
     "library": "var_list.py",
     "varRefreshCmd": "print(var_dic_list())"
    },
    "r": {
     "delete_cmd_postfix": ") ",
     "delete_cmd_prefix": "rm(",
     "library": "var_list.r",
     "varRefreshCmd": "cat(var_dic_list()) "
    }
   },
   "types_to_exclude": [
    "module",
    "function",
    "builtin_function_or_method",
    "instance",
    "_Feature"
   ],
   "window_display": false
  }
 },
 "nbformat": 4,
 "nbformat_minor": 5
}
