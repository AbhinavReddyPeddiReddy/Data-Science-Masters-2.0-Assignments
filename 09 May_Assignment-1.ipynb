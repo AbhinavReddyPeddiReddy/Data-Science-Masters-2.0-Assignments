{
 "cells": [
  {
   "cell_type": "markdown",
   "id": "21e6e755",
   "metadata": {},
   "source": [
    "# Data Science Masters 2.0 Assignment 1 "
   ]
  },
  {
   "cell_type": "markdown",
   "id": "4872ba3b",
   "metadata": {},
   "source": [
    "## Q1. Create one variable containing following type of data:\n",
    "(i) string (ii) list (iii) float (iv) tuple"
   ]
  },
  {
   "cell_type": "code",
   "execution_count": 2,
   "id": "6d617cb6",
   "metadata": {},
   "outputs": [
    {
     "name": "stdout",
     "output_type": "stream",
     "text": [
      "My String: Abhinav Reddy\n",
      "My List: [10, 11, 21, 31, 51]\n",
      "My Float: 3.4\n",
      "My Tuple: (4222, 4444, 2184)\n"
     ]
    }
   ],
   "source": [
    "# String variable\n",
    "my_string = \"Abhinav Reddy\"\n",
    "print(\"My String:\",my_string)\n",
    "\n",
    "# List variable\n",
    "my_list = [10,11,21,31,51]\n",
    "print(\"My List:\",my_list)\n",
    "\n",
    "# Float variable\n",
    "my_float = 3.4\n",
    "print(\"My Float:\",my_float)\n",
    "\n",
    "# Tuple variable\n",
    "my_tuple = (4222, 4444, 2184)\n",
    "print(\"My Tuple:\",my_tuple)"
   ]
  },
  {
   "cell_type": "markdown",
   "id": "8319cbad",
   "metadata": {},
   "source": [
    "## Q2. Given are some following variables containing data:\n",
    "(i) var1 = ‘ ‘ (ii) var2 = ‘[ DS , ML , Python]’ (iii) var3 = [ ‘DS’ , ’ML’ , ‘Python’ ] (iv) var4 = 1.\n",
    "\n",
    "## What will be the data type of the above given variable."
   ]
  },
  {
   "cell_type": "code",
   "execution_count": 3,
   "id": "b74305e4",
   "metadata": {},
   "outputs": [
    {
     "name": "stdout",
     "output_type": "stream",
     "text": [
      "The data type of var1 is <class 'str'>\n",
      "The data type of var2 is <class 'str'>\n",
      "The data type of var3 is <class 'list'>\n",
      "The data type of var4 is <class 'float'>\n"
     ]
    }
   ],
   "source": [
    "var1 = ''\n",
    "print(\"The data type of var1 is\",type(var1))\n",
    "var2 = '[ DS , ML , Python]'\n",
    "print(\"The data type of var2 is\",type(var2))\n",
    "var3 = [ 'DS' , 'ML' , 'Python' ]\n",
    "print(\"The data type of var3 is\",type(var3))\n",
    "var4 = 1.\n",
    "print(\"The data type of var4 is\",type(var4))"
   ]
  },
  {
   "cell_type": "markdown",
   "id": "080cbe80",
   "metadata": {},
   "source": [
    "## Q3. Explain the use of the following operators using an example:\n",
    "(i) / (ii) % (iii) // (iv) **"
   ]
  },
  {
   "cell_type": "code",
   "execution_count": 4,
   "id": "269ae606",
   "metadata": {},
   "outputs": [
    {
     "name": "stdout",
     "output_type": "stream",
     "text": [
      "Division of 769 and 3 is 256.3333333333333\n",
      "Division of 769 and 3 is 1\n",
      "Division of 769 and 3 is 256\n",
      "Division of 769 and 3 is 454756609\n"
     ]
    }
   ],
   "source": [
    "a = 769\n",
    "b = 3\n",
    "div = a / b\n",
    "mod = a % b\n",
    "floor = a // b\n",
    "power = a ** b\n",
    "print(\"Division of {} and {} is\".format(a,b),div)\n",
    "print(\"Division of {} and {} is\".format(a,b),mod)\n",
    "print(\"Division of {} and {} is\".format(a,b),floor)\n",
    "print(\"Division of {} and {} is\".format(a,b),power)"
   ]
  },
  {
   "cell_type": "markdown",
   "id": "ffe3243f",
   "metadata": {},
   "source": [
    "## Q4. Create a list of length 10 of your choice containing multiple types of data. Using for loop print the element and its data type."
   ]
  },
  {
   "cell_type": "code",
   "execution_count": 5,
   "id": "a04890fb",
   "metadata": {
    "scrolled": true
   },
   "outputs": [
    {
     "name": "stdout",
     "output_type": "stream",
     "text": [
      "Element: 42, Data Type: <class 'int'>\n",
      "Element: Hello, World!, Data Type: <class 'str'>\n",
      "Element: 3.14, Data Type: <class 'float'>\n",
      "Element: True, Data Type: <class 'bool'>\n",
      "Element: [1, 2, 3], Data Type: <class 'list'>\n",
      "Element: {'key': 'value'}, Data Type: <class 'dict'>\n",
      "Element: (5, 6), Data Type: <class 'tuple'>\n",
      "Element: None, Data Type: <class 'NoneType'>\n",
      "Element: 7.8, Data Type: <class 'float'>\n",
      "Element: False, Data Type: <class 'bool'>\n"
     ]
    }
   ],
   "source": [
    "my_list = [42, \"Hello, World!\", 3.14, True, [1, 2, 3], {\"key\": \"value\"}, (5, 6), None, 7.8, False]\n",
    "\n",
    "for element in my_list:\n",
    "    print(f\"Element: {element}, Data Type: {type(element)}\")\n"
   ]
  },
  {
   "cell_type": "markdown",
   "id": "c7218b70",
   "metadata": {},
   "source": [
    "## Q5. Using a while loop, verify if the number A is purely divisible by number B and if so then how many times it can be divisible."
   ]
  },
  {
   "cell_type": "code",
   "execution_count": 6,
   "id": "b51c19c3",
   "metadata": {},
   "outputs": [
    {
     "name": "stdout",
     "output_type": "stream",
     "text": [
      "Enter A :12\n",
      "Enter B :6\n",
      "Number A is divisible by B.\n",
      "It can be divided 1 times.\n"
     ]
    }
   ],
   "source": [
    "A = int(input(\"Enter A :\"))  \n",
    "B = int(input(\"Enter B :\"))   \n",
    "\n",
    "count = 0\n",
    "\n",
    "while A % B == 0:\n",
    "    A = A / B  \n",
    "    count += 1  \n",
    "\n",
    "if count > 0:\n",
    "    print(\"Number A is divisible by B.\")\n",
    "    print(\"It can be divided\", count, \"times.\")\n",
    "else:\n",
    "    print(\"Number A is not divisible by B.\")"
   ]
  },
  {
   "cell_type": "markdown",
   "id": "862b1f64",
   "metadata": {},
   "source": [
    "## Q6. Create a list containing 25 int type data. Using for loop and if-else condition print if the element is divisible by 3 or not."
   ]
  },
  {
   "cell_type": "code",
   "execution_count": 7,
   "id": "5a7b9c4c",
   "metadata": {},
   "outputs": [
    {
     "name": "stdout",
     "output_type": "stream",
     "text": [
      "12 is divisible by 3\n",
      "15 is divisible by 3\n",
      "7 is not divisible by 3\n",
      "9 is divisible by 3\n",
      "18 is divisible by 3\n",
      "21 is divisible by 3\n",
      "5 is not divisible by 3\n",
      "24 is divisible by 3\n",
      "33 is divisible by 3\n",
      "11 is not divisible by 3\n",
      "30 is divisible by 3\n",
      "14 is not divisible by 3\n",
      "27 is divisible by 3\n",
      "8 is not divisible by 3\n",
      "36 is divisible by 3\n",
      "19 is not divisible by 3\n",
      "22 is not divisible by 3\n",
      "16 is not divisible by 3\n",
      "25 is not divisible by 3\n",
      "6 is divisible by 3\n",
      "13 is not divisible by 3\n",
      "10 is not divisible by 3\n",
      "28 is not divisible by 3\n",
      "17 is not divisible by 3\n",
      "20 is not divisible by 3\n"
     ]
    }
   ],
   "source": [
    "my_list = [12, 15, 7, 9, 18, 21, 5, 24, 33, 11, 30, 14, 27, 8, 36, 19, 22, 16, 25, 6, 13, 10, 28, 17, 20]\n",
    "\n",
    "for element in my_list:\n",
    "    if element % 3 == 0:\n",
    "        print(element, \"is divisible by 3\")\n",
    "    else:\n",
    "        print(element, \"is not divisible by 3\")"
   ]
  },
  {
   "cell_type": "markdown",
   "id": "515670c7",
   "metadata": {},
   "source": [
    "## Q7. What do you understand about mutable and immutable data types? Give examples for both showing this property."
   ]
  },
  {
   "cell_type": "markdown",
   "id": "d54dbb0e",
   "metadata": {},
   "source": [
    "#### Mutable and immutable are terms used to describe the ability to change or modify an object after it has been created. In Python, some data types are mutable, meaning their values can be modified, while others are immutable, meaning their values cannot be changed once assigned.\n",
    "\n",
    "#### Immutable Data Types:\n",
    "\n",
    "#### int, float, complex, bool: These numeric data types are immutable. Once assigned, their values cannot be changed."
   ]
  },
  {
   "cell_type": "code",
   "execution_count": 9,
   "id": "87404fc3",
   "metadata": {},
   "outputs": [
    {
     "name": "stdout",
     "output_type": "stream",
     "text": [
      "5\n",
      "10\n"
     ]
    }
   ],
   "source": [
    "x = 5\n",
    "print(x)  \n",
    "\n",
    "x = 10  \n",
    "print(x)"
   ]
  },
  {
   "cell_type": "markdown",
   "id": "b771072d",
   "metadata": {},
   "source": [
    "#### In the example above, the value of x is assigned as 5 initially, but later it is reassigned with a new value of 10. This demonstrates that the integer data type is immutable.\n",
    "\n",
    "#### Mutable Data Types:\n",
    "\n",
    "#### list, set, dictionary: These data types are mutable, allowing modifications to their elements or structure."
   ]
  },
  {
   "cell_type": "code",
   "execution_count": 10,
   "id": "3576a179",
   "metadata": {},
   "outputs": [
    {
     "name": "stdout",
     "output_type": "stream",
     "text": [
      "[1, 2, 3]\n",
      "[1, 2, 3, 4]\n",
      "[10, 2, 3, 4]\n"
     ]
    }
   ],
   "source": [
    "my_list = [1, 2, 3]\n",
    "print(my_list)  \n",
    "\n",
    "my_list.append(4)  \n",
    "print(my_list)  \n",
    "\n",
    "my_list[0] = 10\n",
    "print(my_list)  "
   ]
  }
 ],
 "metadata": {
  "kernelspec": {
   "display_name": "Python 3 (ipykernel)",
   "language": "python",
   "name": "python3"
  },
  "language_info": {
   "codemirror_mode": {
    "name": "ipython",
    "version": 3
   },
   "file_extension": ".py",
   "mimetype": "text/x-python",
   "name": "python",
   "nbconvert_exporter": "python",
   "pygments_lexer": "ipython3",
   "version": "3.9.12"
  },
  "varInspector": {
   "cols": {
    "lenName": 16,
    "lenType": 16,
    "lenVar": 40
   },
   "kernels_config": {
    "python": {
     "delete_cmd_postfix": "",
     "delete_cmd_prefix": "del ",
     "library": "var_list.py",
     "varRefreshCmd": "print(var_dic_list())"
    },
    "r": {
     "delete_cmd_postfix": ") ",
     "delete_cmd_prefix": "rm(",
     "library": "var_list.r",
     "varRefreshCmd": "cat(var_dic_list()) "
    }
   },
   "types_to_exclude": [
    "module",
    "function",
    "builtin_function_or_method",
    "instance",
    "_Feature"
   ],
   "window_display": false
  }
 },
 "nbformat": 4,
 "nbformat_minor": 5
}
